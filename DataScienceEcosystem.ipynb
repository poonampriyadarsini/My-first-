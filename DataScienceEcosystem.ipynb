{
 "cells": [
  {
   "cell_type": "markdown",
   "id": "c4688e02-fdd8-4704-8310-6d95a84ffa25",
   "metadata": {},
   "source": [
    "# Data Science Tools And Ecosystem"
   ]
  },
  {
   "cell_type": "markdown",
   "id": "b2971b21-c61d-48d2-b082-bd26a53fa5b1",
   "metadata": {},
   "source": [
    "In this notebook, Data Science Tools and Ecosystem are summarized."
   ]
  },
  {
   "cell_type": "markdown",
   "id": "aea9cf02-5121-4c9a-9930-d35ea69ef4d3",
   "metadata": {},
   "source": [
    "__Objectives:__\n",
    "* Lists of popular languages for data science\n",
    "* List of commonly used libraries for data science\n",
    "* List of open-source data science tools\n",
    "* How to provide comments in the cell\n"
   ]
  },
  {
   "cell_type": "markdown",
   "id": "77e73ff0-31de-409d-b797-f4b453c23492",
   "metadata": {},
   "source": [
    "Some of the popular languages that Data Scientists are use are:\n",
    "1. Python\n",
    "2. R\n",
    "3. SQL\n",
    "4. Java\n",
    "5. C++\n",
    "6. Scala\n",
    "7. Julia"
   ]
  },
  {
   "cell_type": "markdown",
   "id": "6e5d4357-f5c7-40db-ab35-6c4ad3ec9e07",
   "metadata": {},
   "source": [
    "Some of the commonly used libraries used by Data Scientists include:\n",
    "1. TensorFlow\n",
    "2. Numpy\n",
    "3. Scipy\n",
    "4. Pandas\n",
    "5. Matplotlib\n",
    "6. PyTorch\n",
    "7. Scikit-learn\n",
    "8. Keras"
   ]
  },
  {
   "cell_type": "markdown",
   "id": "d5c1bfdf-3cd2-4cfd-9c4d-152e37f6ac93",
   "metadata": {},
   "source": [
    "|Data Science Tools|\n",
    "|------------------|\n",
    "|Jupyter Notebooks|\n",
    "|R Studio|\n",
    "|Spyder|\n",
    "|Anaconda|"
   ]
  },
  {
   "cell_type": "markdown",
   "id": "f5248800-169e-48bf-815d-a23b8a34f055",
   "metadata": {},
   "source": [
    "### Below are a few examples of evaluating arithmatic expressions in Python."
   ]
  },
  {
   "cell_type": "code",
   "execution_count": 13,
   "id": "432dd29a-08af-48b2-902e-9e2c9d377a31",
   "metadata": {},
   "outputs": [
    {
     "data": {
      "text/plain": [
       "17"
      ]
     },
     "execution_count": 13,
     "metadata": {},
     "output_type": "execute_result"
    }
   ],
   "source": [
    "#This a simple arithmatic expression to multiply then add integers\n",
    "(3*4)+5"
   ]
  },
  {
   "cell_type": "code",
   "execution_count": 11,
   "id": "069c47c0-5d38-4eb5-b065-4d99e299736e",
   "metadata": {},
   "outputs": [
    {
     "data": {
      "text/plain": [
       "3.3333333333333335"
      ]
     },
     "execution_count": 11,
     "metadata": {},
     "output_type": "execute_result"
    }
   ],
   "source": [
    "#This will convert 200 minutes to hours by diving by 60\n",
    "200/60"
   ]
  },
  {
   "cell_type": "markdown",
   "id": "1fae68fb-d419-4c89-9a8b-a73b2abe4646",
   "metadata": {},
   "source": [
    "## Author\n",
    "Poonam Priyadarsini Patra\n"
   ]
  },
  {
   "cell_type": "code",
   "execution_count": null,
   "id": "9396d8a8-ddc5-4ae1-aa20-b5a0eb7bde42",
   "metadata": {},
   "outputs": [],
   "source": []
  }
 ],
 "metadata": {
  "kernelspec": {
   "display_name": "Python 3 (ipykernel)",
   "language": "python",
   "name": "python3"
  },
  "language_info": {
   "codemirror_mode": {
    "name": "ipython",
    "version": 3
   },
   "file_extension": ".py",
   "mimetype": "text/x-python",
   "name": "python",
   "nbconvert_exporter": "python",
   "pygments_lexer": "ipython3",
   "version": "3.11.8"
  }
 },
 "nbformat": 4,
 "nbformat_minor": 5
}
